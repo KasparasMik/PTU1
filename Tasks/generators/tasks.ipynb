{
 "cells": [
  {
   "cell_type": "markdown",
   "metadata": {},
   "source": [
    "Parašykite generatorių,\n",
    "kuris kaskartą inicijuotas su funkcija next grąžintų sekantį porinį skaičių.\n",
    "Pirmas sk. 2, toliau 4 ir taip be pabaigos."
   ]
  },
  {
   "cell_type": "code",
   "execution_count": null,
   "metadata": {},
   "outputs": [],
   "source": [
    "def poriniai():\n",
    "    number = 2\n",
    "    while True:\n",
    "        yield number\n",
    "        number += 2"
   ]
  },
  {
   "cell_type": "markdown",
   "metadata": {},
   "source": [
    "Parašykite generatorų , kuris kas kartą generuotų po vieną Fibonačio sekos\n",
    "skaičių. (Seka prasideda šiais skaičiais: 0, 1, 1, 2, 3, 5, 8, 13, 21, 34, 55, 89, 144, 233.\n",
    "Kiekvienas šios sekos skaičius lygus dviejų prieš jį einančių skaičių sumai, daugiau google:)"
   ]
  },
  {
   "cell_type": "code",
   "execution_count": null,
   "metadata": {},
   "outputs": [],
   "source": [
    "def fibonacci():\n",
    "    a, b = 0, 1\n",
    "    while True:\n",
    "        yield a\n",
    "        a, b = b, a + b"
   ]
  },
  {
   "cell_type": "markdown",
   "metadata": {},
   "source": [
    "Įsivaizduokite, kad reikia nulaužti 4 skaitmenų pin kodą. Parašykite generatorių, kuris tikrins po viena kombinaciją,\n",
    "pradedant 0000, ir sustos, kai pin kodas bus teisingas. Pradėkite programą nuo (pvz.) PIN = '0549' ir\n",
    "rašykite toliau. Pabaigus funkciją, praiteruokite sukurtą generatorių su for ciklu, kad spausdintų\n",
    "skaičiukus iš eilės ir atspausdinus paskutinį, parašytų 'PIN is XXXX(jųsų pin'as)'. Atkreipkite dėmesį, kad kodas gali\n",
    "prasidėti nuliu. Sugalvokite, kaip apeiti šią problemą (hint - type conversion, if sąlygos)."
   ]
  },
  {
   "cell_type": "code",
   "execution_count": null,
   "metadata": {},
   "outputs": [],
   "source": [
    "#Tarkime, kad teisingas pin yra 0123\n",
    "PIN = '0123'\n",
    "\n",
    "def pin_breaker():\n",
    "    guess = 0\n",
    "    while True:\n",
    "        yield guess\n",
    "        if guess == int(PIN):\n",
    "            if len(str(guess)) < 4:\n",
    "                if len(str(guess)) == 3:\n",
    "                    print(f'PIN is 0{guess}!')\n",
    "                elif len(str(guess)) == 2:\n",
    "                    print(f'PIN is 00{guess}!')\n",
    "                else:\n",
    "                    print(f'PIN is 000{guess}!')\n",
    "            else:\n",
    "                print(f'PIN is {guess}!')\n",
    "            break\n",
    "        guess += 1\n",
    "\n",
    "\n",
    "generator = pin_breaker()\n",
    "for num in generator:\n",
    "    #Čia irgi galime įterpti logiką, kad spausdintų nulius prieky\n",
    "    print(num)"
   ]
  },
  {
   "cell_type": "markdown",
   "metadata": {},
   "source": [
    "Parašykite generatoriaus funkciją, kuri atidarytų nurodytą failą, ir grąžintų\n",
    "po vieną eilutę (tiesiog yield'inti reikės ne skaičių o kitą duomenų tipą.).\n",
    "Reikės prisiminti darbą su failais :)"
   ]
  },
  {
   "cell_type": "code",
   "execution_count": null,
   "metadata": {},
   "outputs": [],
   "source": [
    "def read_in_lines(filename):\n",
    "    with open(filename, 'r', encoding=\"utf-8\") as file:\n",
    "        for line in file:\n",
    "            yield line\n",
    "\n",
    "\n",
    "\n",
    "generator = read_in_lines('os.txt')\n",
    "\n",
    "while True:\n",
    "    try:\n",
    "        print(next(generator), end=\"\")\n",
    "    except:\n",
    "        print(\"Pabaiga\")\n",
    "        break"
   ]
  }
 ],
 "metadata": {
  "interpreter": {
   "hash": "5a94ea8f10d5d590d0b61e7aad19173f063013833c176b2a8caae3e37fe2adfa"
  },
  "kernelspec": {
   "display_name": "Python 3.9.12 ('venv': venv)",
   "language": "python",
   "name": "python3"
  },
  "language_info": {
   "name": "python",
   "version": "3.9.12"
  },
  "orig_nbformat": 4
 },
 "nbformat": 4,
 "nbformat_minor": 2
}
