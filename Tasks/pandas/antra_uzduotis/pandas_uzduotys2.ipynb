{
 "cells": [
  {
   "cell_type": "markdown",
   "metadata": {},
   "source": [
    "# Pandas užduotys 2"
   ]
  },
  {
   "cell_type": "code",
   "execution_count": 1,
   "metadata": {},
   "outputs": [],
   "source": [
    "import numpy as np\n",
    "import pandas as pd"
   ]
  },
  {
   "cell_type": "markdown",
   "metadata": {},
   "source": [
    "#  1 Sulipdykite iš 4 fragmentų vieną lentelę:\n",
    "\n",
    "fragmentus rasite [čia](https://github.com/robotautas/kursas/tree/master/Pandas/tops)\n",
    "\n",
    "* top_left = pd.read_csv('top1-25-1.csv')\n",
    "* top_right = pd.read_csv('top1-25-2.csv')\n",
    "* bottom_left = pd.read_csv('top26-50-1.csv')\n",
    "* bottom_right = pd.read_csv('top26-50-2.csv')\n",
    "\n",
    "pirmiausiai sujunkite apatinę dalį, tada viršutinę *(yra persidengiančių stulpelių!)*, galiausiai viršų su apačia. Naudokite **.concat()** ir **.merge()** metodus. "
   ]
  },
  {
   "cell_type": "code",
   "execution_count": null,
   "metadata": {},
   "outputs": [],
   "source": []
  },
  {
   "cell_type": "code",
   "execution_count": null,
   "metadata": {
    "scrolled": true
   },
   "outputs": [],
   "source": []
  },
  {
   "cell_type": "markdown",
   "metadata": {},
   "source": [
    "# 2 Sutvarkykite indeksą - padarykite, kad prasidėtų nuo 1."
   ]
  },
  {
   "cell_type": "code",
   "execution_count": null,
   "metadata": {},
   "outputs": [],
   "source": []
  },
  {
   "cell_type": "code",
   "execution_count": null,
   "metadata": {},
   "outputs": [],
   "source": []
  },
  {
   "cell_type": "code",
   "execution_count": null,
   "metadata": {},
   "outputs": [],
   "source": []
  },
  {
   "cell_type": "markdown",
   "metadata": {},
   "source": [
    "# 3 Sukurkite grupavimo pagal žanrą objektą"
   ]
  },
  {
   "cell_type": "code",
   "execution_count": null,
   "metadata": {},
   "outputs": [],
   "source": []
  },
  {
   "cell_type": "code",
   "execution_count": null,
   "metadata": {},
   "outputs": [],
   "source": []
  },
  {
   "cell_type": "markdown",
   "metadata": {},
   "source": [
    "# 4 kokie žanrai lentelėje pasitaiko daugiau negu 3 kartus?"
   ]
  },
  {
   "cell_type": "code",
   "execution_count": null,
   "metadata": {},
   "outputs": [],
   "source": []
  },
  {
   "cell_type": "code",
   "execution_count": null,
   "metadata": {},
   "outputs": [],
   "source": []
  },
  {
   "cell_type": "code",
   "execution_count": 2,
   "metadata": {},
   "outputs": [
    {
     "ename": "NameError",
     "evalue": "name 'newdf' is not defined",
     "output_type": "error",
     "traceback": [
      "\u001b[1;31m---------------------------------------------------------------------------\u001b[0m",
      "\u001b[1;31mNameError\u001b[0m                                 Traceback (most recent call last)",
      "\u001b[1;32mc:\\Users\\kompi\\Desktop\\Learning\\Codeacademy\\Python 1_ir_2 Lygis\\Kurso_darbai_CLASSWORK\\Classwork_Codeacademy\\GitHub\\UPLOAD_TO_GITHUB\\PTU1\\tasks\\pandas\\antra_uzduotis\\pandas_uzduotys2.ipynb Cell 16'\u001b[0m in \u001b[0;36m<cell line: 1>\u001b[1;34m()\u001b[0m\n\u001b[1;32m----> <a href='vscode-notebook-cell:/c%3A/Users/kompi/Desktop/Learning/Codeacademy/Python%201_ir_2%20Lygis/Kurso_darbai_CLASSWORK/Classwork_Codeacademy/GitHub/UPLOAD_TO_GITHUB/PTU1/tasks/pandas/antra_uzduotis/pandas_uzduotys2.ipynb#ch0000015?line=0'>1</a>\u001b[0m newdf[newdf[\u001b[39m'\u001b[39m\u001b[39mEnergy\u001b[39m\u001b[39m'\u001b[39m]\u001b[39m>\u001b[39m\u001b[39m3\u001b[39m][\u001b[39m'\u001b[39m\u001b[39mEnergy\u001b[39m\u001b[39m'\u001b[39m]\n",
      "\u001b[1;31mNameError\u001b[0m: name 'newdf' is not defined"
     ]
    }
   ],
   "source": [
    "newdf[newdf['Energy']>3]['Energy']"
   ]
  },
  {
   "cell_type": "markdown",
   "metadata": {},
   "source": [
    "# 5 Koks žanras pats populiariausias? Koks mažiausiai populiarus?\n",
    "(pagal populiarumo vidurkį)"
   ]
  },
  {
   "cell_type": "code",
   "execution_count": null,
   "metadata": {},
   "outputs": [
    {
     "name": "stdout",
     "output_type": "stream",
     "text": [
      "electropop 95.0\n",
      "canadian pop 74.5\n"
     ]
    }
   ],
   "source": []
  },
  {
   "cell_type": "markdown",
   "metadata": {},
   "source": [
    "# 6 Sukurkite lentelę, kurioje matytųsi, koks žanras turi aukščiausią vidurkį kiekviename indikatoriuje, bei pats vidurkis.\n",
    "kad nereikėtų daug vargti su stulpelių pavadinimais, galima juos ištraukti su **.columns.tolist()**"
   ]
  },
  {
   "cell_type": "code",
   "execution_count": null,
   "metadata": {},
   "outputs": [],
   "source": []
  },
  {
   "cell_type": "code",
   "execution_count": null,
   "metadata": {
    "scrolled": true
   },
   "outputs": [
    {
     "data": {
      "text/html": [
       "<div>\n",
       "<style scoped>\n",
       "    .dataframe tbody tr th:only-of-type {\n",
       "        vertical-align: middle;\n",
       "    }\n",
       "\n",
       "    .dataframe tbody tr th {\n",
       "        vertical-align: top;\n",
       "    }\n",
       "\n",
       "    .dataframe thead th {\n",
       "        text-align: right;\n",
       "    }\n",
       "</style>\n",
       "<table border=\"1\" class=\"dataframe\">\n",
       "  <thead>\n",
       "    <tr style=\"text-align: right;\">\n",
       "      <th></th>\n",
       "      <th>Indikatorius</th>\n",
       "      <th>Žanras</th>\n",
       "      <th>Balai</th>\n",
       "    </tr>\n",
       "  </thead>\n",
       "  <tbody>\n",
       "    <tr>\n",
       "      <th>0</th>\n",
       "      <td>Popularity</td>\n",
       "      <td>electropop</td>\n",
       "      <td>95</td>\n",
       "    </tr>\n",
       "    <tr>\n",
       "      <th>1</th>\n",
       "      <td>Beats.Per.Minute</td>\n",
       "      <td>trap music</td>\n",
       "      <td>180</td>\n",
       "    </tr>\n",
       "    <tr>\n",
       "      <th>2</th>\n",
       "      <td>Energy</td>\n",
       "      <td>reggaeton flow</td>\n",
       "      <td>80</td>\n",
       "    </tr>\n",
       "    <tr>\n",
       "      <th>3</th>\n",
       "      <td>Danceability</td>\n",
       "      <td>r&amp;b en espanol</td>\n",
       "      <td>88</td>\n",
       "    </tr>\n",
       "    <tr>\n",
       "      <th>4</th>\n",
       "      <td>Loudness..dB..</td>\n",
       "      <td>brostep</td>\n",
       "      <td>-2.5</td>\n",
       "    </tr>\n",
       "    <tr>\n",
       "      <th>5</th>\n",
       "      <td>Liveness</td>\n",
       "      <td>brostep</td>\n",
       "      <td>37.5</td>\n",
       "    </tr>\n",
       "    <tr>\n",
       "      <th>6</th>\n",
       "      <td>Valence.</td>\n",
       "      <td>boy band</td>\n",
       "      <td>95</td>\n",
       "    </tr>\n",
       "    <tr>\n",
       "      <th>7</th>\n",
       "      <td>Length.</td>\n",
       "      <td>reggaeton flow</td>\n",
       "      <td>305.5</td>\n",
       "    </tr>\n",
       "    <tr>\n",
       "      <th>8</th>\n",
       "      <td>Acousticness..</td>\n",
       "      <td>australian pop</td>\n",
       "      <td>69</td>\n",
       "    </tr>\n",
       "    <tr>\n",
       "      <th>9</th>\n",
       "      <td>Speechiness.</td>\n",
       "      <td>electropop</td>\n",
       "      <td>34</td>\n",
       "    </tr>\n",
       "  </tbody>\n",
       "</table>\n",
       "</div>"
      ],
      "text/plain": [
       "       Indikatorius          Žanras  Balai\n",
       "0        Popularity      electropop     95\n",
       "1  Beats.Per.Minute      trap music    180\n",
       "2            Energy  reggaeton flow     80\n",
       "3      Danceability  r&b en espanol     88\n",
       "4    Loudness..dB..         brostep   -2.5\n",
       "5          Liveness         brostep   37.5\n",
       "6          Valence.        boy band     95\n",
       "7           Length.  reggaeton flow  305.5\n",
       "8    Acousticness..  australian pop     69\n",
       "9      Speechiness.      electropop     34"
      ]
     },
     "execution_count": 154,
     "metadata": {},
     "output_type": "execute_result"
    }
   ],
   "source": []
  },
  {
   "cell_type": "markdown",
   "metadata": {},
   "source": [
    "# 7 Grįžkime prie sulipdytos lentelės. Ištraukite visas eilutes, kurios turi NaN reikšmių.\n",
    "*filtravimo sąlygose naudokite **.isnull()** funkciją.*"
   ]
  },
  {
   "cell_type": "code",
   "execution_count": null,
   "metadata": {},
   "outputs": [
    {
     "name": "stdout",
     "output_type": "stream",
     "text": [
      "<class 'pandas.core.frame.DataFrame'>\n",
      "Int64Index: 50 entries, 1 to 50\n",
      "Data columns (total 13 columns):\n",
      "Track.Name          50 non-null object\n",
      "Artist.Name         50 non-null object\n",
      "Genre               48 non-null object\n",
      "Popularity          47 non-null float64\n",
      "Beats.Per.Minute    50 non-null int64\n",
      "Energy              50 non-null int64\n",
      "Danceability        50 non-null int64\n",
      "Loudness..dB..      50 non-null int64\n",
      "Liveness            50 non-null int64\n",
      "Valence.            50 non-null int64\n",
      "Length.             50 non-null int64\n",
      "Acousticness..      50 non-null int64\n",
      "Speechiness.        50 non-null int64\n",
      "dtypes: float64(1), int64(9), object(3)\n",
      "memory usage: 5.5+ KB\n"
     ]
    }
   ],
   "source": []
  },
  {
   "cell_type": "code",
   "execution_count": null,
   "metadata": {},
   "outputs": [
    {
     "data": {
      "text/html": [
       "<div>\n",
       "<style scoped>\n",
       "    .dataframe tbody tr th:only-of-type {\n",
       "        vertical-align: middle;\n",
       "    }\n",
       "\n",
       "    .dataframe tbody tr th {\n",
       "        vertical-align: top;\n",
       "    }\n",
       "\n",
       "    .dataframe thead th {\n",
       "        text-align: right;\n",
       "    }\n",
       "</style>\n",
       "<table border=\"1\" class=\"dataframe\">\n",
       "  <thead>\n",
       "    <tr style=\"text-align: right;\">\n",
       "      <th></th>\n",
       "      <th>Track.Name</th>\n",
       "      <th>Artist.Name</th>\n",
       "      <th>Genre</th>\n",
       "      <th>Popularity</th>\n",
       "      <th>Beats.Per.Minute</th>\n",
       "      <th>Energy</th>\n",
       "      <th>Danceability</th>\n",
       "      <th>Loudness..dB..</th>\n",
       "      <th>Liveness</th>\n",
       "      <th>Valence.</th>\n",
       "      <th>Length.</th>\n",
       "      <th>Acousticness..</th>\n",
       "      <th>Speechiness.</th>\n",
       "    </tr>\n",
       "    <tr>\n",
       "      <th>#</th>\n",
       "      <th></th>\n",
       "      <th></th>\n",
       "      <th></th>\n",
       "      <th></th>\n",
       "      <th></th>\n",
       "      <th></th>\n",
       "      <th></th>\n",
       "      <th></th>\n",
       "      <th></th>\n",
       "      <th></th>\n",
       "      <th></th>\n",
       "      <th></th>\n",
       "      <th></th>\n",
       "    </tr>\n",
       "  </thead>\n",
       "  <tbody>\n",
       "    <tr>\n",
       "      <th>4</th>\n",
       "      <td>Beautiful People (feat. Khalid)</td>\n",
       "      <td>Ed Sheeran</td>\n",
       "      <td>pop</td>\n",
       "      <td>NaN</td>\n",
       "      <td>93</td>\n",
       "      <td>65</td>\n",
       "      <td>64</td>\n",
       "      <td>-8</td>\n",
       "      <td>8</td>\n",
       "      <td>55</td>\n",
       "      <td>198</td>\n",
       "      <td>12</td>\n",
       "      <td>19</td>\n",
       "    </tr>\n",
       "    <tr>\n",
       "      <th>19</th>\n",
       "      <td>Lalala</td>\n",
       "      <td>Y2K</td>\n",
       "      <td>NaN</td>\n",
       "      <td>88.0</td>\n",
       "      <td>130</td>\n",
       "      <td>39</td>\n",
       "      <td>84</td>\n",
       "      <td>-8</td>\n",
       "      <td>14</td>\n",
       "      <td>50</td>\n",
       "      <td>161</td>\n",
       "      <td>18</td>\n",
       "      <td>8</td>\n",
       "    </tr>\n",
       "    <tr>\n",
       "      <th>25</th>\n",
       "      <td>bad guy (with Justin Bieber)</td>\n",
       "      <td>Billie Eilish</td>\n",
       "      <td>electropop</td>\n",
       "      <td>NaN</td>\n",
       "      <td>135</td>\n",
       "      <td>45</td>\n",
       "      <td>67</td>\n",
       "      <td>-11</td>\n",
       "      <td>12</td>\n",
       "      <td>68</td>\n",
       "      <td>195</td>\n",
       "      <td>25</td>\n",
       "      <td>30</td>\n",
       "    </tr>\n",
       "    <tr>\n",
       "      <th>48</th>\n",
       "      <td>Happier</td>\n",
       "      <td>Marshmello</td>\n",
       "      <td>brostep</td>\n",
       "      <td>NaN</td>\n",
       "      <td>100</td>\n",
       "      <td>79</td>\n",
       "      <td>69</td>\n",
       "      <td>-3</td>\n",
       "      <td>17</td>\n",
       "      <td>67</td>\n",
       "      <td>214</td>\n",
       "      <td>19</td>\n",
       "      <td>5</td>\n",
       "    </tr>\n",
       "    <tr>\n",
       "      <th>50</th>\n",
       "      <td>Cross Me (feat. Chance the Rapper &amp; PnB Rock)</td>\n",
       "      <td>Ed Sheeran</td>\n",
       "      <td>NaN</td>\n",
       "      <td>82.0</td>\n",
       "      <td>95</td>\n",
       "      <td>79</td>\n",
       "      <td>75</td>\n",
       "      <td>-6</td>\n",
       "      <td>7</td>\n",
       "      <td>61</td>\n",
       "      <td>206</td>\n",
       "      <td>21</td>\n",
       "      <td>12</td>\n",
       "    </tr>\n",
       "  </tbody>\n",
       "</table>\n",
       "</div>"
      ],
      "text/plain": [
       "                                       Track.Name    Artist.Name       Genre  \\\n",
       "#                                                                              \n",
       "4                 Beautiful People (feat. Khalid)     Ed Sheeran         pop   \n",
       "19                                         Lalala            Y2K         NaN   \n",
       "25                   bad guy (with Justin Bieber)  Billie Eilish  electropop   \n",
       "48                                        Happier     Marshmello     brostep   \n",
       "50  Cross Me (feat. Chance the Rapper & PnB Rock)     Ed Sheeran         NaN   \n",
       "\n",
       "    Popularity  Beats.Per.Minute  Energy  Danceability  Loudness..dB..  \\\n",
       "#                                                                        \n",
       "4          NaN                93      65            64              -8   \n",
       "19        88.0               130      39            84              -8   \n",
       "25         NaN               135      45            67             -11   \n",
       "48         NaN               100      79            69              -3   \n",
       "50        82.0                95      79            75              -6   \n",
       "\n",
       "    Liveness  Valence.  Length.  Acousticness..  Speechiness.  \n",
       "#                                                              \n",
       "4          8        55      198              12            19  \n",
       "19        14        50      161              18             8  \n",
       "25        12        68      195              25            30  \n",
       "48        17        67      214              19             5  \n",
       "50         7        61      206              21            12  "
      ]
     },
     "execution_count": 169,
     "metadata": {},
     "output_type": "execute_result"
    }
   ],
   "source": []
  },
  {
   "cell_type": "markdown",
   "metadata": {},
   "source": [
    "# 8 Stulpelyje 'Genre' NaN reikšmes pakeiskite į 'pop'"
   ]
  },
  {
   "cell_type": "code",
   "execution_count": null,
   "metadata": {},
   "outputs": [],
   "source": []
  },
  {
   "cell_type": "markdown",
   "metadata": {},
   "source": [
    "# 9 Stulpelyje 'Popularity' trūkstamas reikšmes pakeiskite į stulpelio vidurkį\n"
   ]
  },
  {
   "cell_type": "code",
   "execution_count": null,
   "metadata": {},
   "outputs": [],
   "source": []
  },
  {
   "cell_type": "code",
   "execution_count": null,
   "metadata": {},
   "outputs": [],
   "source": []
  }
 ],
 "metadata": {
  "kernelspec": {
   "display_name": "Python 3",
   "language": "python",
   "name": "python3"
  },
  "language_info": {
   "codemirror_mode": {
    "name": "ipython",
    "version": 3
   },
   "file_extension": ".py",
   "mimetype": "text/x-python",
   "name": "python",
   "nbconvert_exporter": "python",
   "pygments_lexer": "ipython3",
   "version": "3.9.12"
  }
 },
 "nbformat": 4,
 "nbformat_minor": 2
}
