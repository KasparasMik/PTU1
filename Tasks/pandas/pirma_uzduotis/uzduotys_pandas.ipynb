{
 "cells": [
  {
   "cell_type": "markdown",
   "metadata": {},
   "source": [
    "# Pandas užduotys 1"
   ]
  },
  {
   "cell_type": "markdown",
   "metadata": {},
   "source": [
    "### 1 Importuokite pandas ir numpy"
   ]
  },
  {
   "cell_type": "code",
   "execution_count": null,
   "metadata": {},
   "outputs": [
    {
     "ename": "",
     "evalue": "",
     "output_type": "error",
     "traceback": [
      "\u001b[1;31mRunning cells with 'Python 3.9.12 ('venv': venv)' requires ipykernel package.\n",
      "Run the following command to install 'ipykernel' into the Python environment. \n",
      "Command: '\"c:/Users/kompi/Desktop/Learning/Codeacademy/Python 1_ir_2 Lygis/Kurso_darbai_CLASSWORK/Classwork_Codeacademy/GitHub/UPLOAD_TO_GITHUB/PTU1/tasks/venv/Scripts/python.exe\" -m pip install ipykernel -U --force-reinstall'"
     ]
    }
   ],
   "source": [
    "import pandas as pd\n",
    "import numpy as np\n",
    "\n"
   ]
  },
  {
   "cell_type": "markdown",
   "metadata": {},
   "source": [
    "### 2 Nuskaitykite į DF failą 'miestai isvalyti.csv', failą rasite [čia](https://github.com/robotautas/kursas/tree/master/Pandas)"
   ]
  },
  {
   "cell_type": "code",
   "execution_count": null,
   "metadata": {},
   "outputs": [
    {
     "ename": "",
     "evalue": "",
     "output_type": "error",
     "traceback": [
      "\u001b[1;31mRunning cells with 'Python 3.9.12 ('venv': venv)' requires ipykernel package.\n",
      "Run the following command to install 'ipykernel' into the Python environment. \n",
      "Command: '\"c:/Users/kompi/Desktop/Learning/Codeacademy/Python 1_ir_2 Lygis/Kurso_darbai_CLASSWORK/Classwork_Codeacademy/GitHub/UPLOAD_TO_GITHUB/PTU1/tasks/venv/Scripts/python.exe\" -m pip install ipykernel -U --force-reinstall'"
     ]
    }
   ],
   "source": [
    "miestai = pd.read_csv(\"miestai_isvalyti.csv\")\n",
    "miestai_df = pd.DataFrame(miestai)\n",
    "print(miestai)"
   ]
  },
  {
   "cell_type": "markdown",
   "metadata": {},
   "source": [
    "### 3 Atspausdinkite pirmas penkias df eilutes "
   ]
  },
  {
   "cell_type": "code",
   "execution_count": null,
   "metadata": {},
   "outputs": [
    {
     "ename": "",
     "evalue": "",
     "output_type": "error",
     "traceback": [
      "\u001b[1;31mRunning cells with 'Python 3.9.12 ('venv': venv)' requires ipykernel package.\n",
      "Run the following command to install 'ipykernel' into the Python environment. \n",
      "Command: '\"c:/Users/kompi/Desktop/Learning/Codeacademy/Python 1_ir_2 Lygis/Kurso_darbai_CLASSWORK/Classwork_Codeacademy/GitHub/UPLOAD_TO_GITHUB/PTU1/tasks/venv/Scripts/python.exe\" -m pip install ipykernel -U --force-reinstall'"
     ]
    }
   ],
   "source": [
    "print(miestai.head(5))"
   ]
  },
  {
   "cell_type": "markdown",
   "metadata": {},
   "source": [
    "### 4 Padarykite, kad indeksas būtų stulpelis 'Miestas', ir kad šis pasikeitimas išliktų originale"
   ]
  },
  {
   "cell_type": "code",
   "execution_count": null,
   "metadata": {},
   "outputs": [
    {
     "ename": "",
     "evalue": "",
     "output_type": "error",
     "traceback": [
      "\u001b[1;31mRunning cells with 'Python 3.9.12 ('venv': venv)' requires ipykernel package.\n",
      "Run the following command to install 'ipykernel' into the Python environment. \n",
      "Command: '\"c:/Users/kompi/Desktop/Learning/Codeacademy/Python 1_ir_2 Lygis/Kurso_darbai_CLASSWORK/Classwork_Codeacademy/GitHub/UPLOAD_TO_GITHUB/PTU1/tasks/venv/Scripts/python.exe\" -m pip install ipykernel -U --force-reinstall'"
     ]
    }
   ],
   "source": []
  },
  {
   "cell_type": "code",
   "execution_count": null,
   "metadata": {},
   "outputs": [
    {
     "ename": "",
     "evalue": "",
     "output_type": "error",
     "traceback": [
      "\u001b[1;31mRunning cells with 'Python 3.9.12 ('venv': venv)' requires ipykernel package.\n",
      "Run the following command to install 'ipykernel' into the Python environment. \n",
      "Command: '\"c:/Users/kompi/Desktop/Learning/Codeacademy/Python 1_ir_2 Lygis/Kurso_darbai_CLASSWORK/Classwork_Codeacademy/GitHub/UPLOAD_TO_GITHUB/PTU1/tasks/venv/Scripts/python.exe\" -m pip install ipykernel -U --force-reinstall'"
     ]
    }
   ],
   "source": [
    "miestai_df.set_index('Miestas', inplace=True)\n",
    "miestai_df"
   ]
  },
  {
   "cell_type": "markdown",
   "metadata": {},
   "source": [
    "### 5 Ištraukite reikšmę, kiek gyventojų gyveno Marijampolėje 1923m."
   ]
  },
  {
   "cell_type": "code",
   "execution_count": null,
   "metadata": {},
   "outputs": [
    {
     "ename": "",
     "evalue": "",
     "output_type": "error",
     "traceback": [
      "\u001b[1;31mRunning cells with 'Python 3.9.12 ('venv': venv)' requires ipykernel package.\n",
      "Run the following command to install 'ipykernel' into the Python environment. \n",
      "Command: '\"c:/Users/kompi/Desktop/Learning/Codeacademy/Python 1_ir_2 Lygis/Kurso_darbai_CLASSWORK/Classwork_Codeacademy/GitHub/UPLOAD_TO_GITHUB/PTU1/tasks/venv/Scripts/python.exe\" -m pip install ipykernel -U --force-reinstall'"
     ]
    }
   ],
   "source": [
    "miestai_df['1923']['Marijampolė']"
   ]
  },
  {
   "cell_type": "markdown",
   "metadata": {},
   "source": [
    "### 6 Ištraukite stulpelį '1897', pirmas penkias eilutes."
   ]
  },
  {
   "cell_type": "code",
   "execution_count": null,
   "metadata": {},
   "outputs": [
    {
     "ename": "",
     "evalue": "",
     "output_type": "error",
     "traceback": [
      "\u001b[1;31mRunning cells with 'Python 3.9.12 ('venv': venv)' requires ipykernel package.\n",
      "Run the following command to install 'ipykernel' into the Python environment. \n",
      "Command: '\"c:/Users/kompi/Desktop/Learning/Codeacademy/Python 1_ir_2 Lygis/Kurso_darbai_CLASSWORK/Classwork_Codeacademy/GitHub/UPLOAD_TO_GITHUB/PTU1/tasks/venv/Scripts/python.exe\" -m pip install ipykernel -U --force-reinstall'"
     ]
    }
   ],
   "source": [
    "miestai_df['1897'].head(5)"
   ]
  },
  {
   "cell_type": "markdown",
   "metadata": {},
   "source": [
    "### 7 Ištraukite stulpelius '2019', '1970', '1923', pirmas 10 eilučių."
   ]
  },
  {
   "cell_type": "code",
   "execution_count": null,
   "metadata": {},
   "outputs": [
    {
     "ename": "",
     "evalue": "",
     "output_type": "error",
     "traceback": [
      "\u001b[1;31mRunning cells with 'Python 3.9.12 ('venv': venv)' requires ipykernel package.\n",
      "Run the following command to install 'ipykernel' into the Python environment. \n",
      "Command: '\"c:/Users/kompi/Desktop/Learning/Codeacademy/Python 1_ir_2 Lygis/Kurso_darbai_CLASSWORK/Classwork_Codeacademy/GitHub/UPLOAD_TO_GITHUB/PTU1/tasks/venv/Scripts/python.exe\" -m pip install ipykernel -U --force-reinstall'"
     ]
    }
   ],
   "source": [
    "miestai_df[['2019','1970','1923']].head(10)   # sita naudot geriau \n",
    "# miestai_df[['2019','1970','1923']][:11]"
   ]
  },
  {
   "cell_type": "markdown",
   "metadata": {},
   "source": [
    "### 8 Su **.shape** patikrinkite, kiek eilučių turi lentelė (pamenat numpy? :)"
   ]
  },
  {
   "cell_type": "code",
   "execution_count": null,
   "metadata": {},
   "outputs": [
    {
     "ename": "",
     "evalue": "",
     "output_type": "error",
     "traceback": [
      "\u001b[1;31mRunning cells with 'Python 3.9.12 ('venv': venv)' requires ipykernel package.\n",
      "Run the following command to install 'ipykernel' into the Python environment. \n",
      "Command: '\"c:/Users/kompi/Desktop/Learning/Codeacademy/Python 1_ir_2 Lygis/Kurso_darbai_CLASSWORK/Classwork_Codeacademy/GitHub/UPLOAD_TO_GITHUB/PTU1/tasks/venv/Scripts/python.exe\" -m pip install ipykernel -U --force-reinstall'"
     ]
    }
   ],
   "source": [
    "np.shape(miestai_df)\n",
    "# miestai.shape[0]"
   ]
  },
  {
   "cell_type": "markdown",
   "metadata": {},
   "source": [
    "### 9 pridėkite stulpelį su numeracija."
   ]
  },
  {
   "cell_type": "code",
   "execution_count": null,
   "metadata": {},
   "outputs": [
    {
     "ename": "",
     "evalue": "",
     "output_type": "error",
     "traceback": [
      "\u001b[1;31mRunning cells with 'Python 3.9.12 ('venv': venv)' requires ipykernel package.\n",
      "Run the following command to install 'ipykernel' into the Python environment. \n",
      "Command: '\"c:/Users/kompi/Desktop/Learning/Codeacademy/Python 1_ir_2 Lygis/Kurso_darbai_CLASSWORK/Classwork_Codeacademy/GitHub/UPLOAD_TO_GITHUB/PTU1/tasks/venv/Scripts/python.exe\" -m pip install ipykernel -U --force-reinstall'"
     ]
    }
   ],
   "source": [
    "miestai_df['##_Naujas_##'] = range(1,104)\n",
    "miestai_df\n"
   ]
  },
  {
   "cell_type": "code",
   "execution_count": null,
   "metadata": {},
   "outputs": [
    {
     "ename": "",
     "evalue": "",
     "output_type": "error",
     "traceback": [
      "\u001b[1;31mRunning cells with 'Python 3.9.12 ('venv': venv)' requires ipykernel package.\n",
      "Run the following command to install 'ipykernel' into the Python environment. \n",
      "Command: '\"c:/Users/kompi/Desktop/Learning/Codeacademy/Python 1_ir_2 Lygis/Kurso_darbai_CLASSWORK/Classwork_Codeacademy/GitHub/UPLOAD_TO_GITHUB/PTU1/tasks/venv/Scripts/python.exe\" -m pip install ipykernel -U --force-reinstall'"
     ]
    }
   ],
   "source": []
  },
  {
   "cell_type": "code",
   "execution_count": null,
   "metadata": {},
   "outputs": [
    {
     "ename": "",
     "evalue": "",
     "output_type": "error",
     "traceback": [
      "\u001b[1;31mRunning cells with 'Python 3.9.12 ('venv': venv)' requires ipykernel package.\n",
      "Run the following command to install 'ipykernel' into the Python environment. \n",
      "Command: '\"c:/Users/kompi/Desktop/Learning/Codeacademy/Python 1_ir_2 Lygis/Kurso_darbai_CLASSWORK/Classwork_Codeacademy/GitHub/UPLOAD_TO_GITHUB/PTU1/tasks/venv/Scripts/python.exe\" -m pip install ipykernel -U --force-reinstall'"
     ]
    }
   ],
   "source": []
  },
  {
   "cell_type": "markdown",
   "metadata": {},
   "source": [
    "### 10 Ištraukite miestus nuo 30 iki 39 pozicijos."
   ]
  },
  {
   "cell_type": "code",
   "execution_count": null,
   "metadata": {},
   "outputs": [
    {
     "ename": "",
     "evalue": "",
     "output_type": "error",
     "traceback": [
      "\u001b[1;31mRunning cells with 'Python 3.9.12 ('venv': venv)' requires ipykernel package.\n",
      "Run the following command to install 'ipykernel' into the Python environment. \n",
      "Command: '\"c:/Users/kompi/Desktop/Learning/Codeacademy/Python 1_ir_2 Lygis/Kurso_darbai_CLASSWORK/Classwork_Codeacademy/GitHub/UPLOAD_TO_GITHUB/PTU1/tasks/venv/Scripts/python.exe\" -m pip install ipykernel -U --force-reinstall'"
     ]
    }
   ],
   "source": [
    "miestai_df [\"##_Naujas_##\"][29:39]"
   ]
  },
  {
   "cell_type": "markdown",
   "metadata": {},
   "source": [
    "### 11 Ištrinkite numeracijos stulpelį. "
   ]
  },
  {
   "cell_type": "code",
   "execution_count": null,
   "metadata": {},
   "outputs": [
    {
     "ename": "",
     "evalue": "",
     "output_type": "error",
     "traceback": [
      "\u001b[1;31mRunning cells with 'Python 3.9.12 ('venv': venv)' requires ipykernel package.\n",
      "Run the following command to install 'ipykernel' into the Python environment. \n",
      "Command: '\"c:/Users/kompi/Desktop/Learning/Codeacademy/Python 1_ir_2 Lygis/Kurso_darbai_CLASSWORK/Classwork_Codeacademy/GitHub/UPLOAD_TO_GITHUB/PTU1/tasks/venv/Scripts/python.exe\" -m pip install ipykernel -U --force-reinstall'"
     ]
    }
   ],
   "source": [
    "miestai_df.drop(\"##_Naujas_##\", axis=1)"
   ]
  },
  {
   "cell_type": "code",
   "execution_count": null,
   "metadata": {},
   "outputs": [
    {
     "ename": "",
     "evalue": "",
     "output_type": "error",
     "traceback": [
      "\u001b[1;31mRunning cells with 'Python 3.9.12 ('venv': venv)' requires ipykernel package.\n",
      "Run the following command to install 'ipykernel' into the Python environment. \n",
      "Command: '\"c:/Users/kompi/Desktop/Learning/Codeacademy/Python 1_ir_2 Lygis/Kurso_darbai_CLASSWORK/Classwork_Codeacademy/GitHub/UPLOAD_TO_GITHUB/PTU1/tasks/venv/Scripts/python.exe\" -m pip install ipykernel -U --force-reinstall'"
     ]
    }
   ],
   "source": []
  },
  {
   "cell_type": "markdown",
   "metadata": {},
   "source": [
    "### 12 Kurių miestų dar nebuvo 1959m.?"
   ]
  },
  {
   "cell_type": "code",
   "execution_count": null,
   "metadata": {},
   "outputs": [
    {
     "ename": "",
     "evalue": "",
     "output_type": "error",
     "traceback": [
      "\u001b[1;31mRunning cells with 'Python 3.9.12 ('venv': venv)' requires ipykernel package.\n",
      "Run the following command to install 'ipykernel' into the Python environment. \n",
      "Command: '\"c:/Users/kompi/Desktop/Learning/Codeacademy/Python 1_ir_2 Lygis/Kurso_darbai_CLASSWORK/Classwork_Codeacademy/GitHub/UPLOAD_TO_GITHUB/PTU1/tasks/venv/Scripts/python.exe\" -m pip install ipykernel -U --force-reinstall'"
     ]
    }
   ],
   "source": [
    "miestai_df[miestai_df['1959']<0.1]"
   ]
  },
  {
   "cell_type": "markdown",
   "metadata": {},
   "source": [
    "### 13 Kokie miestai 1897 turėjo daugiau gyventojų, negu 2019?"
   ]
  },
  {
   "cell_type": "code",
   "execution_count": null,
   "metadata": {},
   "outputs": [
    {
     "ename": "",
     "evalue": "",
     "output_type": "error",
     "traceback": [
      "\u001b[1;31mRunning cells with 'Python 3.9.12 ('venv': venv)' requires ipykernel package.\n",
      "Run the following command to install 'ipykernel' into the Python environment. \n",
      "Command: '\"c:/Users/kompi/Desktop/Learning/Codeacademy/Python 1_ir_2 Lygis/Kurso_darbai_CLASSWORK/Classwork_Codeacademy/GitHub/UPLOAD_TO_GITHUB/PTU1/tasks/venv/Scripts/python.exe\" -m pip install ipykernel -U --force-reinstall'"
     ]
    }
   ],
   "source": [
    "miestai_df[miestai_df['1897'] > miestai_df['2019']]"
   ]
  },
  {
   "cell_type": "markdown",
   "metadata": {},
   "source": [
    "### 14 Kuriuose miestuose padaugėjo gyventojų nuo 2011 iki 2019?"
   ]
  },
  {
   "cell_type": "code",
   "execution_count": null,
   "metadata": {},
   "outputs": [
    {
     "ename": "",
     "evalue": "",
     "output_type": "error",
     "traceback": [
      "\u001b[1;31mRunning cells with 'Python 3.9.12 ('venv': venv)' requires ipykernel package.\n",
      "Run the following command to install 'ipykernel' into the Python environment. \n",
      "Command: '\"c:/Users/kompi/Desktop/Learning/Codeacademy/Python 1_ir_2 Lygis/Kurso_darbai_CLASSWORK/Classwork_Codeacademy/GitHub/UPLOAD_TO_GITHUB/PTU1/tasks/venv/Scripts/python.exe\" -m pip install ipykernel -U --force-reinstall'"
     ]
    }
   ],
   "source": [
    "miestai_df[miestai_df['2011'] < miestai_df['2019']][['2011','2019']]"
   ]
  },
  {
   "cell_type": "markdown",
   "metadata": {},
   "source": [
    "### 15 Kuriuose miestuose gyventojų skaičius nuosekliai mažėjo nuo pat 1897m.?"
   ]
  },
  {
   "cell_type": "code",
   "execution_count": null,
   "metadata": {},
   "outputs": [
    {
     "ename": "",
     "evalue": "",
     "output_type": "error",
     "traceback": [
      "\u001b[1;31mRunning cells with 'Python 3.9.12 ('venv': venv)' requires ipykernel package.\n",
      "Run the following command to install 'ipykernel' into the Python environment. \n",
      "Command: '\"c:/Users/kompi/Desktop/Learning/Codeacademy/Python 1_ir_2 Lygis/Kurso_darbai_CLASSWORK/Classwork_Codeacademy/GitHub/UPLOAD_TO_GITHUB/PTU1/tasks/venv/Scripts/python.exe\" -m pip install ipykernel -U --force-reinstall'"
     ]
    }
   ],
   "source": [
    "# miestai_df[miestai_df['1897'] > miestai_df['2019']]\n",
    "\n",
    "miestai[(miestai['1897'] > miestai['1923']) &\n",
    "        (miestai['1923'] > miestai['1959']) &\n",
    "        (miestai['1970'] > miestai['1979']) &\n",
    "        (miestai['1979'] > miestai['1989']) &\n",
    "        (miestai['1989'] > miestai['2001']) &\n",
    "        (miestai['2001'] > miestai['2011']) &\n",
    "        (miestai['2011'] > miestai['2019'])]\n",
    "\n",
    "#miestai_df.index  # labai graziai padaro su index"
   ]
  },
  {
   "cell_type": "markdown",
   "metadata": {},
   "source": [
    "### 16 Suraskite labiausiai procentaliai gyventojų skaičiumi padidėjusį ir sumažėjusį miestus nuo 1989m. "
   ]
  },
  {
   "cell_type": "markdown",
   "metadata": {},
   "source": [
    "hint - *naudokite .idxmax() .idxmin, .max() ir .min() funkcijas.* "
   ]
  },
  {
   "cell_type": "markdown",
   "metadata": {},
   "source": [
    "### 2 Nuskaitykite į DF failą 'miestai isvalyti.csv', failą rasite [čia](https://github.com/robotautas/kursas/tree/master/Pandas)"
   ]
  },
  {
   "cell_type": "code",
   "execution_count": null,
   "metadata": {},
   "outputs": [
    {
     "ename": "",
     "evalue": "",
     "output_type": "error",
     "traceback": [
      "\u001b[1;31mRunning cells with 'Python 3.9.12 ('venv': venv)' requires ipykernel package.\n",
      "Run the following command to install 'ipykernel' into the Python environment. \n",
      "Command: '\"c:/Users/kompi/Desktop/Learning/Codeacademy/Python 1_ir_2 Lygis/Kurso_darbai_CLASSWORK/Classwork_Codeacademy/GitHub/UPLOAD_TO_GITHUB/PTU1/tasks/venv/Scripts/python.exe\" -m pip install ipykernel -U --force-reinstall'"
     ]
    }
   ],
   "source": [
    "proc_skirtumas = ((miestai_df['2019'] - miestai_df['1989'])/miestai_df['1989'])*100\n",
    "\n",
    "print(f'\\\n",
    "{proc_skirtumas.idxmax()}\\t {int(proc_skirtumas.max())}%\\n\\\n",
    "{proc_skirtumas.idxmin()}\\t{int(proc_skirtumas.min())}%')"
   ]
  },
  {
   "cell_type": "code",
   "execution_count": null,
   "metadata": {},
   "outputs": [
    {
     "ename": "",
     "evalue": "",
     "output_type": "error",
     "traceback": [
      "\u001b[1;31mRunning cells with 'Python 3.9.12 ('venv': venv)' requires ipykernel package.\n",
      "Run the following command to install 'ipykernel' into the Python environment. \n",
      "Command: '\"c:/Users/kompi/Desktop/Learning/Codeacademy/Python 1_ir_2 Lygis/Kurso_darbai_CLASSWORK/Classwork_Codeacademy/GitHub/UPLOAD_TO_GITHUB/PTU1/tasks/venv/Scripts/python.exe\" -m pip install ipykernel -U --force-reinstall'"
     ]
    }
   ],
   "source": []
  },
  {
   "cell_type": "markdown",
   "metadata": {},
   "source": [
    "### 17 *Nuresetinkite* indeksą"
   ]
  },
  {
   "cell_type": "code",
   "execution_count": null,
   "metadata": {},
   "outputs": [
    {
     "ename": "",
     "evalue": "",
     "output_type": "error",
     "traceback": [
      "\u001b[1;31mRunning cells with 'Python 3.9.12 ('venv': venv)' requires ipykernel package.\n",
      "Run the following command to install 'ipykernel' into the Python environment. \n",
      "Command: '\"c:/Users/kompi/Desktop/Learning/Codeacademy/Python 1_ir_2 Lygis/Kurso_darbai_CLASSWORK/Classwork_Codeacademy/GitHub/UPLOAD_TO_GITHUB/PTU1/tasks/venv/Scripts/python.exe\" -m pip install ipykernel -U --force-reinstall'"
     ]
    }
   ],
   "source": [
    "\n",
    "miestai_df.reset_index().head()\n"
   ]
  },
  {
   "cell_type": "code",
   "execution_count": null,
   "metadata": {},
   "outputs": [
    {
     "ename": "",
     "evalue": "",
     "output_type": "error",
     "traceback": [
      "\u001b[1;31mRunning cells with 'Python 3.9.12 ('venv': venv)' requires ipykernel package.\n",
      "Run the following command to install 'ipykernel' into the Python environment. \n",
      "Command: '\"c:/Users/kompi/Desktop/Learning/Codeacademy/Python 1_ir_2 Lygis/Kurso_darbai_CLASSWORK/Classwork_Codeacademy/GitHub/UPLOAD_TO_GITHUB/PTU1/tasks/venv/Scripts/python.exe\" -m pip install ipykernel -U --force-reinstall'"
     ]
    }
   ],
   "source": []
  }
 ],
 "metadata": {
  "kernelspec": {
   "display_name": "Python 3",
   "language": "python",
   "name": "python3"
  },
  "language_info": {
   "codemirror_mode": {
    "name": "ipython",
    "version": 3
   },
   "file_extension": ".py",
   "mimetype": "text/x-python",
   "name": "python",
   "nbconvert_exporter": "python",
   "pygments_lexer": "ipython3",
   "version": "3.9.12"
  }
 },
 "nbformat": 4,
 "nbformat_minor": 2
}
