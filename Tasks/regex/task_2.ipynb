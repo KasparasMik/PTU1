{
 "cells": [
  {
   "cell_type": "code",
   "execution_count": 2,
   "metadata": {},
   "outputs": [],
   "source": [
    "import re"
   ]
  },
  {
   "cell_type": "markdown",
   "metadata": {},
   "source": [
    "parašykite funkciją, kuri įvestą datą (formatas dd.mm.yyyy) keistų į yyyy mm dd. Dėl datų logikos nesirūpinkite, dirbame grynai su tekstu."
   ]
  },
  {
   "cell_type": "code",
   "execution_count": 3,
   "metadata": {},
   "outputs": [],
   "source": [
    "def date_format(date):\n",
    "    pattern = re.compile(r'^(\\d{2})\\.(\\d{2})\\.(\\d{4})$')\n",
    "    res = pattern.sub('\\g<3> \\g<2> \\g<1>', date)\n",
    "    return res"
   ]
  },
  {
   "cell_type": "markdown",
   "metadata": {},
   "source": [
    "'''Workshop & Tutorial proposals: November 21, 2019\n",
    "Notification of acceptance: December 1, 2019\n",
    "Workshop & Tutorial websites online: December 18, 2019\n",
    "Workshop papers: February 28, 2020\n",
    "Workshop paper notifications: March 27, 2020\n",
    "Workshop paper camera-ready versions: April 10, 2020\n",
    "Tutorial material due (online): April 10, 2020'''\n",
    "\n",
    "Iš šio teksto atspausdinkite datų sąrašą."
   ]
  },
  {
   "cell_type": "code",
   "execution_count": 4,
   "metadata": {},
   "outputs": [
    {
     "name": "stdout",
     "output_type": "stream",
     "text": [
      "['November 21, 2019', 'December 1, 2019', 'December 18, 2019', 'February 28, 2020', 'March 27, 2020', 'April 10, 2020', 'April 10, 2020']\n"
     ]
    }
   ],
   "source": [
    "text = '''Workshop & Tutorial proposals: November 21, 2019\n",
    "Notification of acceptance: December 1, 2019\n",
    "Workshop & Tutorial websites online: December 18, 2019\n",
    "Workshop papers: February 28, 2020\n",
    "Workshop paper notifications: March 27, 2020\n",
    "Workshop paper camera-ready versions: April 10, 2020\n",
    "Tutorial material due (online): April 10, 2020'''\n",
    "\n",
    "pattern = re.compile(r'[A-Z]\\w+ \\d{1,2}, 20\\d{2}')\n",
    "res = pattern.findall(text)\n",
    "print(res)"
   ]
  },
  {
   "cell_type": "markdown",
   "metadata": {},
   "source": [
    "Atspausdinkite tą patį teksta taip:\n",
    "\n",
    " 1.\n",
    " Event: Workshop & Tutorial proposals due\n",
    " Date: November 21, 2019\n",
    "\n",
    " 2.\n",
    " Event: Notification of acceptance\n",
    " Date: December 1, 2019\n",
    "\n",
    "ir t.t."
   ]
  },
  {
   "cell_type": "code",
   "execution_count": 5,
   "metadata": {},
   "outputs": [
    {
     "name": "stdout",
     "output_type": "stream",
     "text": [
      "1.\n",
      "Event: Workshop & Tutorial proposals\n",
      "Date: November 21, 2019\n",
      "\n",
      "2.\n",
      "Event: Notification of acceptance\n",
      "Date: December 1, 2019\n",
      "\n",
      "3.\n",
      "Event: Workshop & Tutorial websites online\n",
      "Date: December 18, 2019\n",
      "\n",
      "4.\n",
      "Event: Workshop papers\n",
      "Date: February 28, 2020\n",
      "\n",
      "5.\n",
      "Event: Workshop paper notifications\n",
      "Date: March 27, 2020\n",
      "\n",
      "6.\n",
      "Event: Workshop paper camera-ready versions\n",
      "Date: April 10, 2020\n",
      "\n",
      "7.\n",
      "Event: Tutorial material due (online)\n",
      "Date: April 10, 2020\n",
      "\n"
     ]
    }
   ],
   "source": [
    "pattern = re.compile(r'''\n",
    "                        (^.+)                         # group 1\n",
    "                        :\\s\n",
    "                        ([A-Z]\\w+\\s\\d{1,2},\\s20\\d{2}) # group 2\n",
    "                        ''', re.X | re.M)\n",
    "seq = 1\n",
    "for line in text.splitlines():\n",
    "    res = pattern.search(line)\n",
    "    print(f'{seq}.\\nEvent: {res.group(1)}\\nDate: {res.group(2)}\\n')\n",
    "    seq += 1"
   ]
  },
  {
   "cell_type": "markdown",
   "metadata": {},
   "source": [
    "Parašykite funkciją, kuri į parametrus priimtų teksta ir žodžių, kuriuos reikia jame išcenzūruoti sąrašą. Pvz, žodis \"kvaraba\" yra baisus keiksmažodis, ir mums reikia duotame tekste pakeisti k*****a. Pradėkite maždaug taip:\n",
    "\n",
    "def cenzura(tekstas, *keiksmai):\n",
    "     čia bus jūsų funkcija\n",
    "\n",
    " iškvietus funkciją, pvz.:\n",
    "cenzura('baisūs žodžiai, tokie kaip kvaraba, žaltys..', 'kvaraba', 'žaltys')\n",
    "mums atspausdintų\n",
    "baisūs žodžiai, tokie kaip k*****a, ž****s.."
   ]
  },
  {
   "cell_type": "code",
   "execution_count": 6,
   "metadata": {},
   "outputs": [],
   "source": [
    "def censorhip(text, *args):\n",
    "    pattern = re.compile(r'([a-ząčęėįšųūž])([a-ząčęėįšųūž]+)([a-ząčęėįšųūž])')\n",
    "    for word in args:\n",
    "        grouped = pattern.search(word)\n",
    "        censored_part = len(grouped.group(2)) * '*'\n",
    "        censored_word = pattern.sub(f'\\g<1>{censored_part}\\g<3>', word)\n",
    "        text = text.replace(word, censored_word)\n",
    "    print(text)"
   ]
  }
 ],
 "metadata": {
  "interpreter": {
   "hash": "2b06a0491406e46df9abd8dfb27cc81f46a0bad9677dd9f73d61985ad9d24c8e"
  },
  "kernelspec": {
   "display_name": "Python 3.9.12 ('venv': venv)",
   "language": "python",
   "name": "python3"
  },
  "language_info": {
   "codemirror_mode": {
    "name": "ipython",
    "version": 3
   },
   "file_extension": ".py",
   "mimetype": "text/x-python",
   "name": "python",
   "nbconvert_exporter": "python",
   "pygments_lexer": "ipython3",
   "version": "3.9.12"
  },
  "orig_nbformat": 4
 },
 "nbformat": 4,
 "nbformat_minor": 2
}
