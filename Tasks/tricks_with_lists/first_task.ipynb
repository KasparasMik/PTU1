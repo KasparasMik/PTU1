{
 "cells": [
  {
   "cell_type": "markdown",
   "metadata": {},
   "source": [
    "Sukurti programą, kuri:\n",
    "\n",
    "    Prie kiekvieno sakinio „The Zen of Python tekstu“ žodžio pridėtų šauktuką ir atspausdintų naują sakinį.\n",
    "\n",
    "Patarimai:\n",
    "\n",
    "    Naudoti map (su lambda) arba comprehension, \" \".join()\n"
   ]
  },
  {
   "cell_type": "code",
   "execution_count": 4,
   "metadata": {},
   "outputs": [
    {
     "name": "stdout",
     "output_type": "stream",
     "text": [
      "The! Zen! of! Python! tekstu!\n"
     ]
    }
   ],
   "source": [
    "words = \"The Zen of Python tekstu\"\n",
    "\n",
    "words_update = map(lambda x:x + '!', words.split())\n",
    "\n",
    "print(\" \".join(words_update))"
   ]
  }
 ],
 "metadata": {
  "interpreter": {
   "hash": "edaf3d0e36043298f46a85f0cdb93f8ae16916dfd4f39ee1ca8a70ea6513b2ea"
  },
  "kernelspec": {
   "display_name": "Python 3.9.12 ('venv': venv)",
   "language": "python",
   "name": "python3"
  },
  "language_info": {
   "codemirror_mode": {
    "name": "ipython",
    "version": 3
   },
   "file_extension": ".py",
   "mimetype": "text/x-python",
   "name": "python",
   "nbconvert_exporter": "python",
   "pygments_lexer": "ipython3",
   "version": "3.9.12"
  },
  "orig_nbformat": 4
 },
 "nbformat": 4,
 "nbformat_minor": 2
}
