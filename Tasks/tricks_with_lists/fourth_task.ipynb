{
 "cells": [
  {
   "cell_type": "markdown",
   "metadata": {},
   "source": [
    "Sukurti programą, kuri:\n",
    "\n",
    "-    Turėtų klasę Zmogus, su savybėmis vardas ir amzius\n",
    "-    Klasėje būtų repr metodas, kuris atvaizduotų vardą ir amžių\n",
    "-    Inicijuoti kelis Zmogus objektus su vardais ir amžiais\n",
    "-    Įdėti sukurtus Zmogus objektus į naują sąrašą\n",
    "-    Surūšiuotų ir atspausdintų sąrašo objektus pagal vardą ir pagal amžių (ir atbulai)\n",
    "\n",
    "Patarimai:\n",
    "\n",
    "-    Naudoti sorted, attrgetter, reverse, funkciją repr\n",
    "-    from operator import attrgetter\n"
   ]
  },
  {
   "cell_type": "code",
   "execution_count": 1,
   "metadata": {},
   "outputs": [],
   "source": [
    "from operator import attrgetter"
   ]
  },
  {
   "cell_type": "code",
   "execution_count": 2,
   "metadata": {},
   "outputs": [],
   "source": [
    "class Zmogus:\n",
    "    def __init__(self, vardas, amzius):\n",
    "        self.vardas = vardas\n",
    "        self.amzius = amzius\n",
    "        \n",
    "    def __repr__(self):\n",
    "        return (f\"{self.vardas} yra {self.amzius} metu.\")\n",
    "    \n",
    "\n",
    "zmogus_1 = Zmogus(\"Kasparas\", \"25\")\n",
    "zmogus_2 = Zmogus(\"Audrius\", \"25\")\n",
    "zmogus_3 = Zmogus(\"Tadas\", \"33\")"
   ]
  },
  {
   "cell_type": "code",
   "execution_count": 4,
   "metadata": {},
   "outputs": [
    {
     "data": {
      "text/plain": [
       "[Kasparas yra 25 metu., Audrius yra 25 metu., Tadas yra 33 metu.]"
      ]
     },
     "execution_count": 4,
     "metadata": {},
     "output_type": "execute_result"
    }
   ],
   "source": [
    "sarasas = [zmogus_1, zmogus_2, zmogus_3]\n",
    "sarasas"
   ]
  },
  {
   "cell_type": "code",
   "execution_count": 6,
   "metadata": {},
   "outputs": [
    {
     "data": {
      "text/plain": [
       "[Audrius yra 25 metu., Kasparas yra 25 metu., Tadas yra 33 metu.]"
      ]
     },
     "execution_count": 6,
     "metadata": {},
     "output_type": "execute_result"
    }
   ],
   "source": [
    "surusiuotas = sorted(sarasas, key=attrgetter(\"vardas\"))   # Pagal varda\n",
    "surusiuotas  "
   ]
  },
  {
   "cell_type": "code",
   "execution_count": 8,
   "metadata": {},
   "outputs": [
    {
     "data": {
      "text/plain": [
       "[Tadas yra 33 metu., Kasparas yra 25 metu., Audrius yra 25 metu.]"
      ]
     },
     "execution_count": 8,
     "metadata": {},
     "output_type": "execute_result"
    }
   ],
   "source": [
    "surusiuotas = sorted(sarasas, key=attrgetter(\"vardas\"), reverse=True)   # Pagal varda atbulai\n",
    "surusiuotas  "
   ]
  },
  {
   "cell_type": "code",
   "execution_count": 10,
   "metadata": {},
   "outputs": [
    {
     "data": {
      "text/plain": [
       "[Kasparas yra 25 metu., Audrius yra 25 metu., Tadas yra 33 metu.]"
      ]
     },
     "execution_count": 10,
     "metadata": {},
     "output_type": "execute_result"
    }
   ],
   "source": [
    "surusiuotas = sorted(sarasas, key=attrgetter(\"amzius\"))   # Pagal amziu\n",
    "surusiuotas  "
   ]
  },
  {
   "cell_type": "code",
   "execution_count": 12,
   "metadata": {},
   "outputs": [
    {
     "data": {
      "text/plain": [
       "[Tadas yra 33 metu., Kasparas yra 25 metu., Audrius yra 25 metu.]"
      ]
     },
     "execution_count": 12,
     "metadata": {},
     "output_type": "execute_result"
    }
   ],
   "source": [
    "surusiuotas = sorted(sarasas, key=attrgetter(\"vardas\"), reverse=True)   # Pagal amziu reverse\n",
    "surusiuotas  "
   ]
  }
 ],
 "metadata": {
  "interpreter": {
   "hash": "3f63ab8250c36773601f194f3db788a289a8b20352e2cee66dc59b93a0f07bf2"
  },
  "kernelspec": {
   "display_name": "Python 3.9.12 ('venv': venv)",
   "language": "python",
   "name": "python3"
  },
  "language_info": {
   "codemirror_mode": {
    "name": "ipython",
    "version": 3
   },
   "file_extension": ".py",
   "mimetype": "text/x-python",
   "name": "python",
   "nbconvert_exporter": "python",
   "pygments_lexer": "ipython3",
   "version": "3.9.12"
  },
  "orig_nbformat": 4
 },
 "nbformat": 4,
 "nbformat_minor": 2
}
