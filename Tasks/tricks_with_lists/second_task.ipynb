{
 "cells": [
  {
   "cell_type": "markdown",
   "metadata": {},
   "source": [
    "Sukurti programą, kuri:\n",
    "\n",
    "-    Sukurtų sąrašą iš skaičių nuo 0 iki 50\n",
    "-    Padaugintų visus sąrašo skaičius iš 10 ir atspausdintų\n",
    "-    Atrinktų iš sąrašo skaičius, kurie dalinasi iš 7 ir atspausdintų\n",
    "-    Pakeltų visus sąrašo skaičius kvadratu ir atspausdintų\n",
    "-    Su kvadratų sąrašu atliktų šiuos veiksmus: atspausdintų sumą, mažiausią ir didžiausią skaičių, vidurkį, medianą\n",
    "-    Surūšiuotų ir atspausdintų kvadratų sąrašą atbulai\n",
    "\n",
    "Patarimai:\n",
    "\n",
    "-    Naudoti map, filter arba comprehension, sum, min, max, mean, median, %\n",
    "-    from statistics import mean, median\n"
   ]
  },
  {
   "cell_type": "code",
   "execution_count": 2,
   "metadata": {},
   "outputs": [],
   "source": [
    "from statistics import mean, median"
   ]
  },
  {
   "cell_type": "code",
   "execution_count": 4,
   "metadata": {},
   "outputs": [],
   "source": [
    "numbers_list = list(range(51))"
   ]
  },
  {
   "cell_type": "code",
   "execution_count": 7,
   "metadata": {},
   "outputs": [
    {
     "data": {
      "text/plain": [
       "[0,\n",
       " 10,\n",
       " 20,\n",
       " 30,\n",
       " 40,\n",
       " 50,\n",
       " 60,\n",
       " 70,\n",
       " 80,\n",
       " 90,\n",
       " 100,\n",
       " 110,\n",
       " 120,\n",
       " 130,\n",
       " 140,\n",
       " 150,\n",
       " 160,\n",
       " 170,\n",
       " 180,\n",
       " 190,\n",
       " 200,\n",
       " 210,\n",
       " 220,\n",
       " 230,\n",
       " 240,\n",
       " 250,\n",
       " 260,\n",
       " 270,\n",
       " 280,\n",
       " 290,\n",
       " 300,\n",
       " 310,\n",
       " 320,\n",
       " 330,\n",
       " 340,\n",
       " 350,\n",
       " 360,\n",
       " 370,\n",
       " 380,\n",
       " 390,\n",
       " 400,\n",
       " 410,\n",
       " 420,\n",
       " 430,\n",
       " 440,\n",
       " 450,\n",
       " 460,\n",
       " 470,\n",
       " 480,\n",
       " 490,\n",
       " 500]"
      ]
     },
     "execution_count": 7,
     "metadata": {},
     "output_type": "execute_result"
    }
   ],
   "source": [
    "new = [x * 10 for x in numbers_list]\n",
    "new"
   ]
  },
  {
   "cell_type": "code",
   "execution_count": 9,
   "metadata": {},
   "outputs": [
    {
     "data": {
      "text/plain": [
       "[0, 7, 14, 21, 28, 35, 42, 49]"
      ]
     },
     "execution_count": 9,
     "metadata": {},
     "output_type": "execute_result"
    }
   ],
   "source": [
    "divisible_7 = [x for x in numbers_list if x % 7 == 0]\n",
    "divisible_7"
   ]
  },
  {
   "cell_type": "code",
   "execution_count": 11,
   "metadata": {},
   "outputs": [
    {
     "data": {
      "text/plain": [
       "[0,\n",
       " 1,\n",
       " 4,\n",
       " 9,\n",
       " 16,\n",
       " 25,\n",
       " 36,\n",
       " 49,\n",
       " 64,\n",
       " 81,\n",
       " 100,\n",
       " 121,\n",
       " 144,\n",
       " 169,\n",
       " 196,\n",
       " 225,\n",
       " 256,\n",
       " 289,\n",
       " 324,\n",
       " 361,\n",
       " 400,\n",
       " 441,\n",
       " 484,\n",
       " 529,\n",
       " 576,\n",
       " 625,\n",
       " 676,\n",
       " 729,\n",
       " 784,\n",
       " 841,\n",
       " 900,\n",
       " 961,\n",
       " 1024,\n",
       " 1089,\n",
       " 1156,\n",
       " 1225,\n",
       " 1296,\n",
       " 1369,\n",
       " 1444,\n",
       " 1521,\n",
       " 1600,\n",
       " 1681,\n",
       " 1764,\n",
       " 1849,\n",
       " 1936,\n",
       " 2025,\n",
       " 2116,\n",
       " 2209,\n",
       " 2304,\n",
       " 2401,\n",
       " 2500]"
      ]
     },
     "execution_count": 11,
     "metadata": {},
     "output_type": "execute_result"
    }
   ],
   "source": [
    "square = [x ** 2 for x in numbers_list]\n",
    "square"
   ]
  },
  {
   "cell_type": "code",
   "execution_count": 13,
   "metadata": {},
   "outputs": [
    {
     "name": "stdout",
     "output_type": "stream",
     "text": [
      "42925\n",
      "2500\n",
      "0\n",
      "841.6666666666666\n",
      "625\n"
     ]
    }
   ],
   "source": [
    "print(sum(square))\n",
    "print(max(square))\n",
    "print(min(square))\n",
    "print(mean(square))\n",
    "print(median(square))"
   ]
  },
  {
   "cell_type": "code",
   "execution_count": 14,
   "metadata": {},
   "outputs": [
    {
     "data": {
      "text/plain": [
       "[2500,\n",
       " 2401,\n",
       " 2304,\n",
       " 2209,\n",
       " 2116,\n",
       " 2025,\n",
       " 1936,\n",
       " 1849,\n",
       " 1764,\n",
       " 1681,\n",
       " 1600,\n",
       " 1521,\n",
       " 1444,\n",
       " 1369,\n",
       " 1296,\n",
       " 1225,\n",
       " 1156,\n",
       " 1089,\n",
       " 1024,\n",
       " 961,\n",
       " 900,\n",
       " 841,\n",
       " 784,\n",
       " 729,\n",
       " 676,\n",
       " 625,\n",
       " 576,\n",
       " 529,\n",
       " 484,\n",
       " 441,\n",
       " 400,\n",
       " 361,\n",
       " 324,\n",
       " 289,\n",
       " 256,\n",
       " 225,\n",
       " 196,\n",
       " 169,\n",
       " 144,\n",
       " 121,\n",
       " 100,\n",
       " 81,\n",
       " 64,\n",
       " 49,\n",
       " 36,\n",
       " 25,\n",
       " 16,\n",
       " 9,\n",
       " 4,\n",
       " 1,\n",
       " 0]"
      ]
     },
     "execution_count": 14,
     "metadata": {},
     "output_type": "execute_result"
    }
   ],
   "source": [
    "forward = sorted(square, reverse=True)\n",
    "forward"
   ]
  }
 ],
 "metadata": {
  "interpreter": {
   "hash": "3f63ab8250c36773601f194f3db788a289a8b20352e2cee66dc59b93a0f07bf2"
  },
  "kernelspec": {
   "display_name": "Python 3.9.12 ('venv': venv)",
   "language": "python",
   "name": "python3"
  },
  "language_info": {
   "codemirror_mode": {
    "name": "ipython",
    "version": 3
   },
   "file_extension": ".py",
   "mimetype": "text/x-python",
   "name": "python",
   "nbconvert_exporter": "python",
   "pygments_lexer": "ipython3",
   "version": "3.9.12"
  },
  "orig_nbformat": 4
 },
 "nbformat": 4,
 "nbformat_minor": 2
}
