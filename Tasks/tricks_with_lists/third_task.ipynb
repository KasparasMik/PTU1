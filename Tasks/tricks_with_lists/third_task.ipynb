{
 "cells": [
  {
   "cell_type": "markdown",
   "metadata": {},
   "source": [
    "Duotas sąrašas: sarasas = [2.5, 2, \"Labas\", True, 5, 7, 8, 2.8, \"Vakaras\"]\n",
    "\n",
    "Sukurti programą, kuri:\n",
    "\n",
    "-    Paskaičiuotų ir atspausdintų visų sąrašo skaičių sumą\n",
    "-    Sudėtų ir atspausdintų visus sąrašo žodžius\n",
    "-    Suskaičiuotų ir atspausdintų, kiek sąraše yra loginių (boolean) kintamųjų su True reikšme\n",
    "\n",
    "Patarimai:\n",
    "\n",
    "-    Naudoti filter arba comprehension, sum, \" \".join()\n"
   ]
  },
  {
   "cell_type": "code",
   "execution_count": 2,
   "metadata": {},
   "outputs": [],
   "source": [
    "sarasas = [2.5, 2, \"Labas\", True, 5, 7, 8, 2.8, \"Vakaras\"]"
   ]
  },
  {
   "cell_type": "code",
   "execution_count": 8,
   "metadata": {},
   "outputs": [
    {
     "data": {
      "text/plain": [
       "27.3"
      ]
     },
     "execution_count": 8,
     "metadata": {},
     "output_type": "execute_result"
    }
   ],
   "source": [
    "strings = sum(x for x in sarasas if type(x) is int or type(x) is float)\n",
    "strings\n",
    "\n",
    "# strings_2 = sum(x for x in sarasas if type(x) is not str or type(x) is bool)\n",
    "# strings_2"
   ]
  },
  {
   "cell_type": "code",
   "execution_count": 10,
   "metadata": {},
   "outputs": [
    {
     "name": "stdout",
     "output_type": "stream",
     "text": [
      "Labas Vakaras\n"
     ]
    }
   ],
   "source": [
    "words = [x for x in sarasas if type(x) is str]\n",
    "print(\" \".join(words))"
   ]
  },
  {
   "cell_type": "code",
   "execution_count": 13,
   "metadata": {},
   "outputs": [
    {
     "data": {
      "text/plain": [
       "1"
      ]
     },
     "execution_count": 13,
     "metadata": {},
     "output_type": "execute_result"
    }
   ],
   "source": [
    "how_much_bool = sum([type(x) is bool for x in sarasas])\n",
    "how_much_bool"
   ]
  }
 ],
 "metadata": {
  "interpreter": {
   "hash": "3f63ab8250c36773601f194f3db788a289a8b20352e2cee66dc59b93a0f07bf2"
  },
  "kernelspec": {
   "display_name": "Python 3.9.12 ('venv': venv)",
   "language": "python",
   "name": "python3"
  },
  "language_info": {
   "codemirror_mode": {
    "name": "ipython",
    "version": 3
   },
   "file_extension": ".py",
   "mimetype": "text/x-python",
   "name": "python",
   "nbconvert_exporter": "python",
   "pygments_lexer": "ipython3",
   "version": "3.9.12"
  },
  "orig_nbformat": 4
 },
 "nbformat": 4,
 "nbformat_minor": 2
}
